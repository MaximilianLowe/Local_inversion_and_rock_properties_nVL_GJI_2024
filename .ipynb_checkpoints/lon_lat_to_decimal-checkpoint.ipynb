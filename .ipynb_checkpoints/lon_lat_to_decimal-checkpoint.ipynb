{
 "cells": [
  {
   "cell_type": "code",
   "execution_count": 1,
   "id": "b2e5aaf0-e66d-4bed-8a93-7304c79b6dc0",
   "metadata": {},
   "outputs": [],
   "source": [
    "import numpy as np\n",
    "import netCDF4 as nc4\n",
    "from netCDF4 import Dataset\n",
    "import matplotlib.pyplot as plt\n",
    "import pandas as pd\n",
    "import geopandas as gpd\n",
    "import cartopy.crs as ccrs\n",
    "from cmcrameri import cm\n",
    "from tqdm.notebook import tqdm, trange\n",
    "import time   \n",
    "import os\n",
    "from scipy.interpolate import griddata\n",
    "from pykrige.ok import OrdinaryKriging\n",
    "from shapely.geometry.polygon import Polygon"
   ]
  },
  {
   "cell_type": "code",
   "execution_count": null,
   "id": "8d2cac09-b4a8-4eec-a8ce-65453e0a8ea8",
   "metadata": {},
   "outputs": [],
   "source": []
  },
  {
   "cell_type": "code",
   "execution_count": 239,
   "id": "10608b9a-bace-4652-bfbf-37d59f0aaed2",
   "metadata": {},
   "outputs": [],
   "source": [
    "lat_deg = 71"
   ]
  },
  {
   "cell_type": "code",
   "execution_count": 240,
   "id": "de2f902d-87cf-4901-8e0d-9958c3c72d3a",
   "metadata": {},
   "outputs": [],
   "source": [
    "lat_minute = 24"
   ]
  },
  {
   "cell_type": "code",
   "execution_count": 241,
   "id": "a2cfba17-1114-492d-98cf-a4d5b1674e11",
   "metadata": {},
   "outputs": [],
   "source": [
    "lat_min_to_decimal = lat_minute/60"
   ]
  },
  {
   "cell_type": "code",
   "execution_count": 242,
   "id": "0abacdd5-24a6-4add-a9dd-a37e7937331b",
   "metadata": {},
   "outputs": [
    {
     "name": "stdout",
     "output_type": "stream",
     "text": [
      "71.4\n"
     ]
    }
   ],
   "source": [
    "print(lat_deg+lat_min_to_decimal)"
   ]
  },
  {
   "cell_type": "code",
   "execution_count": null,
   "id": "e2ba9814-0e29-47ea-9d7a-dd0b74e25c6d",
   "metadata": {},
   "outputs": [],
   "source": []
  },
  {
   "cell_type": "code",
   "execution_count": 235,
   "id": "0739b953-7a90-4222-a6a5-21fae16df7ac",
   "metadata": {},
   "outputs": [],
   "source": [
    "lon_deg = 161"
   ]
  },
  {
   "cell_type": "code",
   "execution_count": 236,
   "id": "248b5c9e-25ba-4c73-b757-c0b55ddbb873",
   "metadata": {},
   "outputs": [],
   "source": [
    "lon_minute = 57.014"
   ]
  },
  {
   "cell_type": "code",
   "execution_count": 237,
   "id": "dd352146-53b0-427d-bf9d-71ad607c5f34",
   "metadata": {},
   "outputs": [],
   "source": [
    "lon_min_to_decimal = lon_minute/60"
   ]
  },
  {
   "cell_type": "code",
   "execution_count": 238,
   "id": "a702726f-73f7-4d16-aa61-7a830867c809",
   "metadata": {},
   "outputs": [
    {
     "name": "stdout",
     "output_type": "stream",
     "text": [
      "161.95023333333333\n"
     ]
    }
   ],
   "source": [
    "print(lon_deg+lon_min_to_decimal)"
   ]
  },
  {
   "cell_type": "code",
   "execution_count": null,
   "id": "5727aa36-4aec-4f82-8cfa-73720cdda1dd",
   "metadata": {},
   "outputs": [],
   "source": []
  },
  {
   "cell_type": "code",
   "execution_count": null,
   "id": "4a897d2a-656b-46b2-9594-606a8d7e88af",
   "metadata": {},
   "outputs": [],
   "source": []
  }
 ],
 "metadata": {
  "kernelspec": {
   "display_name": "Python 3 (ipykernel)",
   "language": "python",
   "name": "python3"
  },
  "language_info": {
   "codemirror_mode": {
    "name": "ipython",
    "version": 3
   },
   "file_extension": ".py",
   "mimetype": "text/x-python",
   "name": "python",
   "nbconvert_exporter": "python",
   "pygments_lexer": "ipython3",
   "version": "3.10.11"
  }
 },
 "nbformat": 4,
 "nbformat_minor": 5
}
